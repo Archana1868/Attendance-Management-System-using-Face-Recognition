{
 "cells": [
  {
   "cell_type": "code",
   "execution_count": 7,
   "metadata": {},
   "outputs": [],
   "source": [
    "import cv2\n",
    "import numpy as np\n",
    "import os\n",
    "from PIL import Image\n",
    "import pandas as pd\n",
    "from tkinter import *\n",
    "import face_recognition"
   ]
  },
  {
   "cell_type": "code",
   "execution_count": 12,
   "metadata": {},
   "outputs": [
    {
     "name": "stdout",
     "output_type": "stream",
     "text": [
      "Enter Regd No : y16cs863\n",
      "0\n"
     ]
    }
   ],
   "source": [
    "import cv2\n",
    "import face_recognition\n",
    "video_capture = cv2.VideoCapture(0)\n",
    "face_locations = []\n",
    "\n",
    "regd = input(\"Enter Regd No : \")\n",
    "id = regd[5:]\n",
    "branch = regd[3:5].upper()\n",
    "\n",
    "f = open('Record.txt','r+')\n",
    "num=0\n",
    "\n",
    "for word in f.readlines():\n",
    "    if(word.split()[0]==regd):\n",
    "        num=int(word.split()[1])\n",
    "print(num)\n",
    "i=int(num)-1\n",
    "f.close()\n",
    "\n",
    "while True:\n",
    "    ret, frame = video_capture.read()\n",
    "    b, g ,r = cv2.split(frame)\n",
    "    rgb_frame = frame[:,:,::-1]\n",
    "    face_locations = face_recognition.face_locations(rgb_frame)\n",
    "    gray = cv2.cvtColor(frame,cv2.COLOR_BGR2GRAY)\n",
    "    for top, right, bottom, left in face_locations:\n",
    "        cv2.rectangle(frame, (left, top), (right, bottom), (0, 0, 255), 2)\n",
    "        cv2.imwrite(\"dataSet/\"+str(branch)+\"_\"+str(id)+\"_\"+str(num)+\".jpg\",gray[top:bottom,left:right])\n",
    "        cv2.imwrite(\"dataSet/\"+str(branch)+\"_\"+str(id)+\"_\"+str(num+1)+\".jpg\",b[top:bottom,left:right])\n",
    "        cv2.imwrite(\"dataSet/\"+str(branch)+\"_\"+str(id)+\"_\"+str(num+2)+\".jpg\",g[top:bottom,left:right])\n",
    "        cv2.imwrite(\"dataSet/\"+str(branch)+\"_\"+str(id)+\"_\"+str(num+3)+\".jpg\",r[top:bottom,left:right])\n",
    "    num+=4\n",
    "    cv2.imshow('Video', frame)\n",
    "    if cv2.waitKey(1) & 0xFF == ord('q'):\n",
    "        break\n",
    "    if(num>=i+240):\n",
    "        break;\n",
    "f = open('Record.txt','a')\n",
    "f.write(\"\\n\"+regd+\"\\t\"+str(num+1))\n",
    "f.close()\n",
    "video_capture.release()\n",
    "cv2.destroyAllWindows()"
   ]
  },
  {
   "cell_type": "code",
   "execution_count": null,
   "metadata": {},
   "outputs": [],
   "source": []
  }
 ],
 "metadata": {
  "kernelspec": {
   "display_name": "Python 3",
   "language": "python",
   "name": "python3"
  },
  "language_info": {
   "codemirror_mode": {
    "name": "ipython",
    "version": 3
   },
   "file_extension": ".py",
   "mimetype": "text/x-python",
   "name": "python",
   "nbconvert_exporter": "python",
   "pygments_lexer": "ipython3",
   "version": "3.6.5"
  }
 },
 "nbformat": 4,
 "nbformat_minor": 2
}
