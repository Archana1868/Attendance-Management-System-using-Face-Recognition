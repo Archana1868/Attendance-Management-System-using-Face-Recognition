{
 "cells": [
  {
   "cell_type": "code",
   "execution_count": 67,
   "metadata": {},
   "outputs": [],
   "source": [
    "import cv2\n",
    "import numpy as np\n",
    "import os\n",
    "from PIL import Image\n",
    "import pandas as pd\n",
    "from tkinter import *\n",
    "import face_recognition\n",
    "from os import"
   ]
  },
  {
   "cell_type": "code",
   "execution_count": 68,
   "metadata": {},
   "outputs": [],
   "source": [
    "def create_data():\n",
    "    p = os.fork()\n",
    "    if p==0:\n",
    "        cmd = 'runipy Dataset_Create.ipynb'\n",
    "        os.system(cmd)\n",
    "def train_data():\n",
    "    p = os.fork()\n",
    "    if p==0:\n",
    "        cmd = 'runipy trainner.ipynb'\n",
    "        os.system(cmd)\n",
    "def detect():\n",
    "    p = os.fork()\n",
    "    if p==0:\n",
    "        cmd = 'runipy detector.ipynb'\n",
    "        os.system(cmd)"
   ]
  },
  {
   "cell_type": "code",
   "execution_count": 69,
   "metadata": {},
   "outputs": [
    {
     "name": "stderr",
     "output_type": "stream",
     "text": [
      "Exception in Tkinter callback\n",
      "Traceback (most recent call last):\n",
      "  File \"C:\\Users\\Dinesh\\Anaconda3\\lib\\tkinter\\__init__.py\", line 1702, in __call__\n",
      "    return self.func(*args)\n",
      "  File \"<ipython-input-68-bef9acedf3a2>\", line 2, in create_data\n",
      "    p = os.fork()\n",
      "AttributeError: module 'os' has no attribute 'fork'\n"
     ]
    }
   ],
   "source": [
    "window =  Tk()\n",
    "window.geometry(\"600x600\")\n",
    "window.title('Attendance Management System')\n",
    "\n",
    "b1 = Button(window,text=\"Create New Face\",width=21,height=4,font=(\"arial\",14),bg='#000000',fg='#ffffff',command=create_data).place(x=50,y=100)\n",
    "\n",
    "b2 = Button(window,text=\"Train Faces\",width=21,height=4,font=(\"arial\",14),bg='#000000',fg='#ffffff',command=train_data).place(x=320,y=100)\n",
    "\n",
    "b3 = Button(window,text=\"Detector\",width=46,height=4,font=(\"arial\",14),bg='#000000',fg='#ffffff',command=detect).place(x=50,y=230)\n",
    "\n",
    "window.mainloop()"
   ]
  },
  {
   "cell_type": "code",
   "execution_count": null,
   "metadata": {},
   "outputs": [],
   "source": []
  }
 ],
 "metadata": {
  "kernelspec": {
   "display_name": "Python 3",
   "language": "python",
   "name": "python3"
  },
  "language_info": {
   "codemirror_mode": {
    "name": "ipython",
    "version": 3
   },
   "file_extension": ".py",
   "mimetype": "text/x-python",
   "name": "python",
   "nbconvert_exporter": "python",
   "pygments_lexer": "ipython3",
   "version": "3.6.5"
  }
 },
 "nbformat": 4,
 "nbformat_minor": 2
}
